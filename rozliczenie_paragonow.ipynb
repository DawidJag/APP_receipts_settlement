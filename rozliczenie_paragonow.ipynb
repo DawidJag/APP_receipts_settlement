{
  "nbformat": 4,
  "nbformat_minor": 0,
  "metadata": {
    "colab": {
      "name": "rozliczenie_paragonow.ipynb",
      "provenance": [],
      "collapsed_sections": [],
      "authorship_tag": "ABX9TyNkYcHJPpTrjk4R8RQQcORP",
      "include_colab_link": true
    },
    "kernelspec": {
      "name": "python3",
      "display_name": "Python 3"
    }
  },
  "cells": [
    {
      "cell_type": "markdown",
      "metadata": {
        "id": "view-in-github",
        "colab_type": "text"
      },
      "source": [
        "<a href=\"https://colab.research.google.com/github/DawidJag/APP_receipts_settlement/blob/main/rozliczenie_paragonow.ipynb\" target=\"_parent\"><img src=\"https://colab.research.google.com/assets/colab-badge.svg\" alt=\"Open In Colab\"/></a>"
      ]
    },
    {
      "cell_type": "code",
      "metadata": {
        "colab": {
          "base_uri": "https://localhost:8080/"
        },
        "id": "lPUycdjWiFv1",
        "outputId": "c7ac1e9c-55d1-42fa-f66d-817763d9537f"
      },
      "source": [
        "pip install tinydb"
      ],
      "execution_count": 1,
      "outputs": [
        {
          "output_type": "stream",
          "text": [
            "Collecting tinydb\n",
            "  Downloading https://files.pythonhosted.org/packages/e5/7e/85ee672ee60affd5b4461efa19f260cf7575f36b94fbd1f0825742639910/tinydb-4.3.0-py3-none-any.whl\n",
            "Installing collected packages: tinydb\n",
            "Successfully installed tinydb-4.3.0\n"
          ],
          "name": "stdout"
        }
      ]
    },
    {
      "cell_type": "code",
      "metadata": {
        "id": "SZsTaiIJvC6m"
      },
      "source": [
        "import pandas as pd\n",
        "import numpy as np\n",
        "from tinydb import TinyDB\n",
        "from tinydb import Query\n"
      ],
      "execution_count": 2,
      "outputs": []
    },
    {
      "cell_type": "code",
      "metadata": {
        "id": "92X9sihp7Fsx"
      },
      "source": [
        "class Rozliczenie():\n",
        "  def __init__(self, participants, name):\n",
        "    self.participants = participants         # list of people\n",
        "    self.name = name\n",
        "    self.receipts = []            # adding each receipt  to this list during creation of each receipt\n",
        "\n",
        "  def get_settle_balance(self):\n",
        "    settle_balance = {}\n",
        "\n",
        "    for person in self.participants:\n",
        "      settle_balance[person] = 0\n",
        "\n",
        "      for receipt in self.receipts:\n",
        "        settle_balance[person] += receipt.get_balance_per_person()[person]\n",
        "    return settle_balance\n",
        "\n",
        "  def get_split_of_balance(self):           # splitting balance per person for negative and positive\n",
        "    negative_bal = {}\n",
        "    positive_bal = {}\n",
        "\n",
        "    for key, value in self.get_settle_balance().items():\n",
        "      if value < 0:\n",
        "        negative_bal[key] = value\n",
        "      else:\n",
        "        positive_bal[key] = value\n",
        "\n",
        "    positive_bal = pd.Series(positive_bal)\n",
        "    negative_bal = pd.Series(negative_bal)\n",
        "\n",
        "    positive_bal.sort_values(ascending=True, inplace=True)\n",
        "    negative_bal.sort_values(ascending=True, inplace=True)\n",
        "    final_payers = list(negative_bal.index)\n",
        "    final_receivers = list(positive_bal.index)\n",
        "    \n",
        "    return positive_bal, negative_bal, final_payers, final_receivers\n",
        "\n",
        "# *********************************************************\n",
        "\n",
        "  # final settlement between all participants\n",
        "  def final_payments_report(self):\n",
        "    payments = {}                                                      # dictionary => {'payer1': {'receiver1': amt1, 'receiver2': amt2}}\n",
        "    positive, negative, payers, receivers = self.get_split_of_balance()\n",
        "\n",
        "    for payer in payers:\n",
        "      payments[payer] = {}\n",
        "      for receiver in receivers:\n",
        "\n",
        "        if positive[receiver] <= abs(negative[payer]):\n",
        "          payments[payer].update({receiver: positive[receiver]})       # payment\n",
        "          negative[payer] += positive[receiver]                        # adding receiver to the dict with payments\n",
        "          positive[receiver] -= positive[receiver]                     # settle of payment on receiver side\n",
        "        else:\n",
        "          payments[payer].update({receiver: abs(negative[payer])})\n",
        "\n",
        "    return payments\n",
        "# ********************************************************\n",
        "\n",
        "class Paragon():\n",
        "  def __init__(self, participants, payments, private_exp, common_exp_share, category, date, remarks=''):\n",
        "    self.participants = participants\n",
        "    self.payments = payments\n",
        "    self.private_exp = private_exp\n",
        "    self.common_exp_share = common_exp_share\n",
        "    self.payers = list(payments.keys())\n",
        "    self.pay_amt = list(payments.values())\n",
        "    self.priv_exp_persons = list(private_exp.keys())\n",
        "    self.priv_exp_amt = list(private_exp.values())\n",
        "    self.common_exp_persons = list(common_exp_share.keys())\n",
        "    self.common_exp_amt = sum(self.pay_amt) - sum(self.priv_exp_amt)\n",
        "    self.category = category\n",
        "    self.date = date\n",
        "    self.remarks = remarks\n",
        "    self.exp_per_person = self.get_exp_per_person()\n",
        "\n",
        "  def get_common_exp_per_person(self):\n",
        "    no_of_people = sum(list(self.common_exp_share.values()))\n",
        "    common_exp_per_person = self.common_exp_amt / no_of_people\n",
        "    return common_exp_per_person\n",
        "\n",
        "  def get_exp_per_person(self):\n",
        "    exp_per_person_dict = {}\n",
        "\n",
        "    for person in self.participants:\n",
        "      if self.common_exp_share[person] == 0:\n",
        "        exp_per_person_dict[person] = self.private_exp[person]\n",
        "      else:\n",
        "        exp_per_person_dict[person] = self.private_exp[person] + self.get_common_exp_per_person()\n",
        "    \n",
        "    return exp_per_person_dict\n",
        "\n",
        "  def get_payment_per_person(self):\n",
        "    return self.payments\n",
        "\n",
        "  def get_balance_per_person(self):               \n",
        "    balance = {}\n",
        "    for person in self.participants:\n",
        "      if person in self.payers:\n",
        "        balance[person] = self.get_payment_per_person()[person] - self.get_exp_per_person()[person]\n",
        "      else:\n",
        "        balance[person] = -self.get_exp_per_person()[person]\n",
        "    return balance\n"
      ],
      "execution_count": 3,
      "outputs": []
    },
    {
      "cell_type": "code",
      "metadata": {
        "id": "e9b2cnKhahPZ"
      },
      "source": [
        "# ****************************** Data Base ******************\n",
        "class DataBase:\n",
        "  def __init__(self, file_name):\n",
        "    self.filename = file_name\n",
        "    self.settlements = None\n",
        "    self.file = None\n",
        "    self.load()\n",
        "\n",
        "  def load(self):\n",
        "    self.file = open(self.filename, \"r\")\n",
        "    self.settlements = {}\n",
        "\n",
        "    for line in self.file:\n",
        "      settlement, receipt, participants, payments, private_exp, common_exp_share, category, date, remarks = line.strip().split(\";\")\n",
        "\n",
        "      if settlement in self.settlements.keys():\n",
        "        self.settlements[settlement].update({receipt: (participants, payments, private_exp, common_exp_share, category, date, remarks)})\n",
        "      else:          \n",
        "        self.settlements[settlement] = {receipt: (participants, payments, private_exp, common_exp_share, category, date, remarks)}\n",
        "    self.file.close()\n",
        "\n",
        "  def add_record(self):\n",
        "\n",
        "# ******************\n",
        "\n",
        "    if email.strip() not in self.users:\n",
        "      self.users[email.strip()] = (password.strip(), name.strip(), DataBase.get_date())\n",
        "      self.save()\n",
        "      return 1\n",
        "    else:\n",
        "      print(\"Email exists already\")\n",
        "      return -1\n",
        "\n",
        "# *****************\n",
        "\n",
        "\n",
        "\n",
        "    pass\n",
        "\n",
        "  def save(self):\n",
        "    pass\n",
        "\n",
        "\n",
        "\n",
        "\n",
        "\n",
        "  \n"
      ],
      "execution_count": 4,
      "outputs": []
    },
    {
      "cell_type": "code",
      "metadata": {
        "id": "DzKu37fMn_o1"
      },
      "source": [
        "db = DataBase('baza_danych2.txt')"
      ],
      "execution_count": 5,
      "outputs": []
    },
    {
      "cell_type": "code",
      "metadata": {
        "colab": {
          "base_uri": "https://localhost:8080/"
        },
        "id": "dUCdpyAEoh8U",
        "outputId": "a865503d-17fb-42b1-e59e-e4f9349c9304"
      },
      "source": [
        "db.settlements"
      ],
      "execution_count": 6,
      "outputs": [
        {
          "output_type": "execute_result",
          "data": {
            "text/plain": [
              "{'rozliczenie1': {'paragon1': (\"['Daw','Rob','Aga','Mama']\",\n",
              "   '{\"Daw\":100,\"Rob\":150,\"Aga\":150}',\n",
              "   '{\"Daw\":110,\"Rob\":60,\"Aga\":100,\"Mama\":60}',\n",
              "   '{\"Daw\":1,\"Rob\":1,\"Aga\":1,\"Mama\":1}',\n",
              "   'jedzenie',\n",
              "   '2020-11-22',\n",
              "   'wyjazd na wakacje'),\n",
              "  'paragon2': (\"['Daw','Rob','Aga','Mama']\",\n",
              "   '{\"Daw\":150,\"Rob\":300,\"Aga\":200,\"Mama\":100}',\n",
              "   '{\"Daw\":190,\"Rob\":190,\"Aga\":140,\"Mama\":160}',\n",
              "   '{\"Daw\":1,\"Rob\":1,\"Aga\":1,\"Mama\":1}',\n",
              "   'nocleg',\n",
              "   '2020-11-23',\n",
              "   'wyjazd na wakacje')}}"
            ]
          },
          "metadata": {
            "tags": []
          },
          "execution_count": 6
        }
      ]
    },
    {
      "cell_type": "code",
      "metadata": {
        "colab": {
          "base_uri": "https://localhost:8080/"
        },
        "id": "F_uFTtBuf4jA",
        "outputId": "f3e5f7c5-01d0-4905-e6bd-742d15c0fe18"
      },
      "source": [
        "db = TinyDB('db.txt')           # https://stackoverflow.com/questions/43610854/how-can-i-use-a-text-file-as-database-in-python\n",
        "db.insert({'id': 1, 'name': 'car1', 'color': 'green'})\n",
        "db.insert({'id': 2, 'name': 'car1', 'color': 'green'})"
      ],
      "execution_count": 7,
      "outputs": [
        {
          "output_type": "execute_result",
          "data": {
            "text/plain": [
              "2"
            ]
          },
          "metadata": {
            "tags": []
          },
          "execution_count": 7
        }
      ]
    },
    {
      "cell_type": "code",
      "metadata": {
        "id": "Qj6rJfaw9jD6",
        "colab": {
          "base_uri": "https://localhost:8080/"
        },
        "outputId": "c8f16a73-50c2-4702-8fca-9e8d9eceeecd"
      },
      "source": [
        "rozliczenie1 = Rozliczenie(['Daw', 'Rob', 'Aga', 'Mama'], 'wakacje')\n",
        "\n",
        "rozliczenie1.participants"
      ],
      "execution_count": 8,
      "outputs": [
        {
          "output_type": "execute_result",
          "data": {
            "text/plain": [
              "['Daw', 'Rob', 'Aga', 'Mama']"
            ]
          },
          "metadata": {
            "tags": []
          },
          "execution_count": 8
        }
      ]
    },
    {
      "cell_type": "code",
      "metadata": {
        "id": "Bdwbj5e-7uMY"
      },
      "source": [
        "paragon1 = Paragon(rozliczenie1.participants, {\"Daw\": 100, \"Rob\": 150, \"Aga\": 150}, {\"Daw\": 110, \"Rob\": 60, \"Aga\": 100, 'Mama': 60}, {\"Daw\": 1, \"Rob\": 1, \"Aga\": 1, 'Mama': 1}, 'jedzenie', '2020-11-22')\n",
        "paragon2 = Paragon(rozliczenie1.participants, {\"Daw\": 150, \"Rob\": 300, \"Aga\": 200, 'Mama': 100}, {\"Daw\": 190, \"Rob\": 190, \"Aga\": 140, 'Mama': 160}, {\"Daw\": 1, \"Rob\": 1, \"Aga\": 1, 'Mama': 1}, 'nocleg', '2020-11-23')\n",
        "rozliczenie1.receipts = [paragon1, paragon2]"
      ],
      "execution_count": 9,
      "outputs": []
    },
    {
      "cell_type": "code",
      "metadata": {
        "colab": {
          "base_uri": "https://localhost:8080/"
        },
        "id": "wfiBHU61IpFn",
        "outputId": "e2cf61e3-3fc9-4951-c846-731196a06c77"
      },
      "source": [
        "rozliczenie1.final_payments_report()"
      ],
      "execution_count": 10,
      "outputs": [
        {
          "output_type": "execute_result",
          "data": {
            "text/plain": [
              "{'Daw': {'Aga': 0.0, 'Rob': 85.0}, 'Mama': {'Aga': 75.0, 'Rob': 80.0}}"
            ]
          },
          "metadata": {
            "tags": []
          },
          "execution_count": 10
        }
      ]
    },
    {
      "cell_type": "code",
      "metadata": {
        "id": "aBKEfo6bvtuO"
      },
      "source": [
        "dict_1 = {'daw': 1, 'rob': 2}"
      ],
      "execution_count": 11,
      "outputs": []
    },
    {
      "cell_type": "code",
      "metadata": {
        "colab": {
          "base_uri": "https://localhost:8080/"
        },
        "id": "Iflshh3uv0SB",
        "outputId": "6233ab9b-6644-4c12-ced3-c1060debaebb"
      },
      "source": [
        "'daw' in dict_1.keys()"
      ],
      "execution_count": 12,
      "outputs": [
        {
          "output_type": "execute_result",
          "data": {
            "text/plain": [
              "True"
            ]
          },
          "metadata": {
            "tags": []
          },
          "execution_count": 12
        }
      ]
    },
    {
      "cell_type": "code",
      "metadata": {
        "id": "fW6r_OQqv3Fj"
      },
      "source": [
        ""
      ],
      "execution_count": 12,
      "outputs": []
    }
  ]
}