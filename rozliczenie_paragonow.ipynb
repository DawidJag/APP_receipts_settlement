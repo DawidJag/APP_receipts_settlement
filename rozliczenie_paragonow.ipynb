{
  "nbformat": 4,
  "nbformat_minor": 0,
  "metadata": {
    "colab": {
      "name": "rozliczenie_paragonow.ipynb",
      "provenance": [],
      "collapsed_sections": [],
      "authorship_tag": "ABX9TyMwm6DpJIN6U+V+c2xVqd5Z",
      "include_colab_link": true
    },
    "kernelspec": {
      "name": "python3",
      "display_name": "Python 3"
    }
  },
  "cells": [
    {
      "cell_type": "markdown",
      "metadata": {
        "id": "view-in-github",
        "colab_type": "text"
      },
      "source": [
        "<a href=\"https://colab.research.google.com/github/DawidJag/APP_receipts_settlement/blob/main/rozliczenie_paragonow.ipynb\" target=\"_parent\"><img src=\"https://colab.research.google.com/assets/colab-badge.svg\" alt=\"Open In Colab\"/></a>"
      ]
    },
    {
      "cell_type": "code",
      "metadata": {
        "id": "SZsTaiIJvC6m"
      },
      "source": [
        "import pandas as pd\n",
        "import numpy as np\n",
        "\n"
      ],
      "execution_count": 117,
      "outputs": []
    },
    {
      "cell_type": "code",
      "metadata": {
        "id": "F_uFTtBuf4jA"
      },
      "source": [
        "# pip install tinydb\n",
        "\n",
        "# from tinydb import TinyDB\n",
        "# from tinydb import Query\n",
        "\n",
        "\n",
        "# module for very small data bases => finally not used in here\n",
        "\n",
        "# db = TinyDB('db.txt')           # https://stackoverflow.com/questions/43610854/how-can-i-use-a-text-file-as-database-in-python\n",
        "# db.insert({'id': 1, 'name': 'car1', 'color': 'green'})\n",
        "# db.insert({'id': 2, 'name': 'car1', 'color': 'green'})"
      ],
      "execution_count": 118,
      "outputs": []
    },
    {
      "cell_type": "code",
      "metadata": {
        "id": "92X9sihp7Fsx"
      },
      "source": [
        "class Rozliczenie():\n",
        "  def __init__(self, participants, name):\n",
        "    self.participants = participants         # list of people\n",
        "    self.name = name\n",
        "    self.receipts = []            # adding each receipt  to this list during creation of each receipt\n",
        "\n",
        "  def get_settle_balance(self):\n",
        "    settle_balance = {}\n",
        "\n",
        "    for person in self.participants:\n",
        "      settle_balance[person] = 0\n",
        "\n",
        "      for receipt in self.receipts:\n",
        "        settle_balance[person] += receipt.get_balance_per_person()[person]\n",
        "    return settle_balance\n",
        "\n",
        "  def get_split_of_balance(self):           # splitting balance per person for negative and positive\n",
        "    negative_bal = {}\n",
        "    positive_bal = {}\n",
        "\n",
        "    for key, value in self.get_settle_balance().items():\n",
        "      if value < 0:\n",
        "        negative_bal[key] = value\n",
        "      else:\n",
        "        positive_bal[key] = value\n",
        "\n",
        "    positive_bal = pd.Series(positive_bal)\n",
        "    negative_bal = pd.Series(negative_bal)\n",
        "\n",
        "    positive_bal.sort_values(ascending=True, inplace=True)\n",
        "    negative_bal.sort_values(ascending=True, inplace=True)\n",
        "    final_payers = list(negative_bal.index)\n",
        "    final_receivers = list(positive_bal.index)\n",
        "    \n",
        "    return positive_bal, negative_bal, final_payers, final_receivers\n",
        "\n",
        "# *********************************************************\n",
        "\n",
        "  # final settlement between all participants\n",
        "  def final_payments_report(self):\n",
        "    payments = {}                                                      # dictionary => {'payer1': {'receiver1': amt1, 'receiver2': amt2}}\n",
        "    positive, negative, payers, receivers = self.get_split_of_balance()\n",
        "\n",
        "    for payer in payers:\n",
        "      payments[payer] = {}\n",
        "      for receiver in receivers:\n",
        "\n",
        "        if positive[receiver] <= abs(negative[payer]):\n",
        "          payments[payer].update({receiver: positive[receiver]})       # payment\n",
        "          negative[payer] += positive[receiver]                        # adding receiver to the dict with payments\n",
        "          positive[receiver] -= positive[receiver]                     # settle of payment on receiver side\n",
        "        else:\n",
        "          payments[payer].update({receiver: abs(negative[payer])})\n",
        "\n",
        "    return payments\n",
        "# ********************************************************\n",
        "\n",
        "class Paragon():\n",
        "  def __init__(self, participants, payments, private_exp, common_exp_share, category, date, remarks=''):\n",
        "    self.participants = participants\n",
        "    self.payments = payments\n",
        "    self.private_exp = private_exp\n",
        "    self.common_exp_share = common_exp_share\n",
        "    self.payers = list(payments.keys())\n",
        "    self.pay_amt = list(payments.values())\n",
        "    self.priv_exp_persons = list(private_exp.keys())\n",
        "    self.priv_exp_amt = list(private_exp.values())\n",
        "    self.common_exp_persons = list(common_exp_share.keys())\n",
        "    self.common_exp_amt = sum(self.pay_amt) - sum(self.priv_exp_amt)\n",
        "    self.category = category\n",
        "    self.date = date\n",
        "    self.remarks = remarks\n",
        "    self.exp_per_person = self.get_exp_per_person()\n",
        "\n",
        "  def get_common_exp_per_person(self):\n",
        "    no_of_people = sum(list(self.common_exp_share.values()))\n",
        "    common_exp_per_person = self.common_exp_amt / no_of_people\n",
        "    return common_exp_per_person\n",
        "\n",
        "  def get_exp_per_person(self):\n",
        "    exp_per_person_dict = {}\n",
        "\n",
        "    for person in self.participants:\n",
        "      if self.common_exp_share[person] == 0:\n",
        "        exp_per_person_dict[person] = self.private_exp[person]\n",
        "      else:\n",
        "        exp_per_person_dict[person] = self.private_exp[person] + self.get_common_exp_per_person()\n",
        "    \n",
        "    return exp_per_person_dict\n",
        "\n",
        "  def get_payment_per_person(self):\n",
        "    return self.payments\n",
        "\n",
        "  def get_balance_per_person(self):               \n",
        "    balance = {}\n",
        "    for person in self.participants:\n",
        "      if person in self.payers:\n",
        "        balance[person] = self.get_payment_per_person()[person] - self.get_exp_per_person()[person]\n",
        "      else:\n",
        "        balance[person] = -self.get_exp_per_person()[person]\n",
        "    return balance\n"
      ],
      "execution_count": 119,
      "outputs": []
    },
    {
      "cell_type": "code",
      "metadata": {
        "id": "e9b2cnKhahPZ"
      },
      "source": [
        "# ****************************** Data Base ******************\n",
        "# created based on:   https://www.techwithtim.net/tutorials/kivy-tutorial/example-gui/\n",
        "class DataBase:\n",
        "  def __init__(self, file_name):\n",
        "    self.filename = file_name\n",
        "    self.settlements = None\n",
        "    self.file = None\n",
        "    self.load()\n",
        "\n",
        "  def load(self):\n",
        "    self.file = open(self.filename, \"r\")\n",
        "    self.settlements = {}\n",
        "\n",
        "    for line in self.file:\n",
        "      settlement, receipt, participants, payments, private_exp, common_exp_share, category, date, remarks = line.strip().split(\";\")\n",
        "\n",
        "      if settlement in self.settlements.keys():\n",
        "        self.settlements[settlement].update({receipt: (participants, payments, private_exp, common_exp_share, category, date, remarks)})\n",
        "      else:          \n",
        "        self.settlements[settlement] = {receipt: (participants, payments, private_exp, common_exp_share, category, date, remarks)}\n",
        "    self.file.close()\n",
        "\n",
        "  def add_record(self, settlement, receipt, participants, payments, private_exp, common_exp_share, category, date, remarks):\n",
        "    \n",
        "    if settlement.strip() in self.settlements.keys():\n",
        "      if receipt.strip() not in self.settlements[settlement.strip()]:           # checking if specific receipt already exists for that settlement, if not add receipt to the settlement     \n",
        "        self.settlements[settlement.strip()].update({receipt.strip(): (participants, payments, private_exp, common_exp_share, category, date, remarks)})\n",
        "        self.save()           \n",
        "        return 1\n",
        "      else:\n",
        "        print(\"Receipt exists already\")\n",
        "        return -1\n",
        "\n",
        "    else:\n",
        "      self.settlements[settlement.strip()] = {receipt.strip(): (participants, payments, private_exp, common_exp_share, category, date, remarks)}\n",
        "      self.save()\n",
        "      return 1\n",
        "\n",
        "  def save(self):\n",
        "      with open(self.filename, \"w\") as f:\n",
        "          for settlement in self.settlements:\n",
        "            for receipt in self.settlements[settlement]:\n",
        "              item = self.settlements[settlement][receipt]\n",
        "\n",
        "              f.write(settlement + \";\" + receipt + \";\" + item[0] + \";\" + item[1] + \";\" + item[2] + \";\" + item[3] + \";\" + item[4] + \";\" + item[5] + \";\" + item[6] + \"\\n\")\n",
        "              \n",
        "  def update_record(self, old_settlement, old_receipt, new_settlement, new_receipt, participants, payments, private_exp, common_exp_share, category, date, remarks):\n",
        "    self.delete_record(old_settlement, old_receipt)\n",
        "    self.add_record(new_settlement, new_receipt, participants, payments, private_exp, common_exp_share, category, date, remarks)\n",
        "    return 1\n",
        "\n",
        "  def delete_record(self, settlement, receipt):\n",
        "    self.settlements[settlement].pop(receipt)\n",
        "    self.save()\n",
        "    return 1\n",
        "\n",
        "  def get_settlements_list(self):\n",
        "    return self.settlements.keys()\n",
        "\n",
        "  def get_receipts_list(self, settlement):            # for specific settlement\n",
        "    return self.settlements[settlement].keys()\n",
        "  \n"
      ],
      "execution_count": 157,
      "outputs": []
    },
    {
      "cell_type": "code",
      "metadata": {
        "id": "DzKu37fMn_o1"
      },
      "source": [
        "db = DataBase('baza_danych2.txt')"
      ],
      "execution_count": 158,
      "outputs": []
    },
    {
      "cell_type": "code",
      "metadata": {
        "colab": {
          "base_uri": "https://localhost:8080/"
        },
        "id": "1Qz1y9vjrcCO",
        "outputId": "cc33c104-54c2-41cd-90bc-1597abe218e3"
      },
      "source": [
        "db.settlements"
      ],
      "execution_count": 166,
      "outputs": [
        {
          "output_type": "execute_result",
          "data": {
            "text/plain": [
              "{'rozliczenie1': {'paragon1': (\"['Daw','Rob','Aga','Mama']\",\n",
              "   '{\"Daw\":100,\"Rob\":150,\"Aga\":150}',\n",
              "   '{\"Daw\":110,\"Rob\":60,\"Aga\":100,\"Mama\":60}',\n",
              "   '{\"Daw\":1,\"Rob\":1,\"Aga\":1,\"Mama\":1}',\n",
              "   'jedzenie',\n",
              "   '2020-11-22',\n",
              "   'wyjazd na wakacje')},\n",
              " 'rozliczenie2': {'paragon2': ('bbb',\n",
              "   'aaa',\n",
              "   'aaa',\n",
              "   'aaa',\n",
              "   'aaa',\n",
              "   'aaa',\n",
              "   'aaa'),\n",
              "  'paragon3': ('ccc', 'ccc', 'ccc', 'ccc', 'ccc', 'ccc', 'ccc')},\n",
              " 'rozliczenie3': {'paragon3': ('bbb',\n",
              "   'aaa',\n",
              "   'aaa',\n",
              "   'aaa',\n",
              "   'aaa',\n",
              "   'aaa',\n",
              "   'aaa')}}"
            ]
          },
          "metadata": {
            "tags": []
          },
          "execution_count": 166
        }
      ]
    },
    {
      "cell_type": "code",
      "metadata": {
        "id": "pBs8XbMYk86Y"
      },
      "source": [
        ""
      ],
      "execution_count": null,
      "outputs": []
    }
  ]
}